{
 "cells": [
  {
   "cell_type": "code",
   "execution_count": 1,
   "metadata": {},
   "outputs": [],
   "source": [
    "import numpy as np # thư viện hỗ trợ xử lý tính toán các phép toán đại số tuyến tính\n",
    "import matplotlib.pyplot as plt # thư viện trực quan dữ liệu\n",
    "from skimage.feature import hog # thư viện trích xuất đặc trưng HOG \n",
    "from sklearn import svm # thư viện svm \n",
    "from sklearn.metrics import classification_report, accuracy_score # Thư viện tính độ chính xác, và ma trận trực quan kết quả\n",
    "import os # thử viện xử lý về môi trường tương tác, đường dẫn \n",
    "import cv2 # thư viện xử lý ảnh\n",
    "import glob2 # thư viện xử lý đường dẫn\n",
    "from tensorflow.keras.applications import ResNet50 # khai báo kiến trúc mạng resnet\n",
    "from tensorflow.keras.applications.resnet50 import preprocess_input # Xử lý input cho kiến trúc mạng resnet\n",
    "from tensorflow.keras.preprocessing.image import img_to_array # convert ảnh thành mảng\n",
    "from tensorflow.keras.preprocessing.image import load_img # load ảnh từ path"
   ]
  },
  {
   "cell_type": "code",
   "execution_count": 2,
   "metadata": {},
   "outputs": [],
   "source": [
    "train_cats_path = \"D:/2ndCourse2020-2021/ml/dog-cat-full-dataset-master/data/train/cats\" # Đường dẫn tới ảnh train của cats "
   ]
  },
  {
   "cell_type": "code",
   "execution_count": 3,
   "metadata": {},
   "outputs": [],
   "source": [
    "train_dogs_path = \"D:/2ndCourse2020-2021/ml/dog-cat-full-dataset-master/data/train/dogs\" # đường dẫn tới ảnh train của dogs"
   ]
  },
  {
   "cell_type": "code",
   "execution_count": 4,
   "metadata": {},
   "outputs": [],
   "source": [
    "test_cats_path = \"D:/2ndCourse2020-2021/ml/dog-cat-full-dataset-master/data/test/cats\" # Đường dẫn tới ảnh test của cats "
   ]
  },
  {
   "cell_type": "code",
   "execution_count": 5,
   "metadata": {},
   "outputs": [],
   "source": [
    "test_dogs_path = \"D:/2ndCourse2020-2021/ml/dog-cat-full-dataset-master/data/test/dogs\" # Đường dẫn tới ảnh test của dogs"
   ]
  },
  {
   "cell_type": "code",
   "execution_count": 6,
   "metadata": {},
   "outputs": [],
   "source": [
    "list_image_train_cats = glob2.glob(os.path.join(train_cats_path, \"*.jpg\"))"
   ]
  },
  {
   "cell_type": "code",
   "execution_count": 7,
   "metadata": {},
   "outputs": [],
   "source": [
    "list_image_train_dogs = glob2.glob(os.path.join(train_dogs_path, \"*.jpg\"))"
   ]
  },
  {
   "cell_type": "code",
   "execution_count": 8,
   "metadata": {},
   "outputs": [
    {
     "name": "stdout",
     "output_type": "stream",
     "text": [
      "Số lượng hình huấn luyện của lớp cats:  10000\n",
      "Số lượng hình huấn luyện của lớp dogs:  10000\n"
     ]
    }
   ],
   "source": [
    "print(\"Số lượng hình huấn luyện của lớp cats: \", len(list_image_train_cats))\n",
    "print(\"Số lượng hình huấn luyện của lớp dogs: \", len(list_image_train_dogs))"
   ]
  },
  {
   "cell_type": "code",
   "execution_count": 9,
   "metadata": {},
   "outputs": [],
   "source": [
    "list_image_test_cats = glob2.glob(os.path.join(test_cats_path, \"*.jpg\"))"
   ]
  },
  {
   "cell_type": "code",
   "execution_count": 10,
   "metadata": {},
   "outputs": [],
   "source": [
    "list_image_test_dogs = glob2.glob(os.path.join(test_dogs_path, \"*.jpg\"))"
   ]
  },
  {
   "cell_type": "code",
   "execution_count": 11,
   "metadata": {},
   "outputs": [
    {
     "name": "stdout",
     "output_type": "stream",
     "text": [
      "Số lượng hình kiểm tra của lớp cats:  2500\n",
      "Số lượng hình kiểm tra của lớp dogs:  2500\n"
     ]
    }
   ],
   "source": [
    "print(\"Số lượng hình kiểm tra của lớp cats: \", len(list_image_test_cats))\n",
    "print(\"Số lượng hình kiểm tra của lớp dogs: \", len(list_image_test_dogs))"
   ]
  },
  {
   "cell_type": "code",
   "execution_count": 12,
   "metadata": {},
   "outputs": [],
   "source": [
    "# Do dữ liệu khá lớn nên giảm số lượng ảnh đi để dễ dàng tính toán và phù hợp với điều kiện của máy tính hơn\n",
    "list_image_train_cats = list_image_train_cats[:500]"
   ]
  },
  {
   "cell_type": "code",
   "execution_count": 13,
   "metadata": {},
   "outputs": [],
   "source": [
    "list_image_train_dogs = list_image_train_dogs[:500]"
   ]
  },
  {
   "cell_type": "code",
   "execution_count": 14,
   "metadata": {},
   "outputs": [],
   "source": [
    "list_image_test_cats = list_image_test_cats[:150]"
   ]
  },
  {
   "cell_type": "code",
   "execution_count": 15,
   "metadata": {},
   "outputs": [],
   "source": [
    "list_image_test_dogs = list_image_test_dogs[:150]"
   ]
  },
  {
   "cell_type": "code",
   "execution_count": 16,
   "metadata": {},
   "outputs": [
    {
     "name": "stdout",
     "output_type": "stream",
     "text": [
      "Số lượng hình huấn luyện của lớp cats sau khi giảm là:  500\n",
      "Số lượng hình huấn luyện của lớp dolà sau khi giảm là:  500\n",
      "Số lượng hình kiểm tra của lớp cats sau khi giảm là:  150\n",
      "Số lượng hình kiểm tra của lớp dolà sau khi giảm là:  150\n"
     ]
    }
   ],
   "source": [
    "print(\"Số lượng hình huấn luyện của lớp cats sau khi giảm là: \", len(list_image_train_cats))\n",
    "print(\"Số lượng hình huấn luyện của lớp dolà sau khi giảm là: \", len(list_image_train_dogs))\n",
    "print(\"Số lượng hình kiểm tra của lớp cats sau khi giảm là: \", len(list_image_test_cats))\n",
    "print(\"Số lượng hình kiểm tra của lớp dolà sau khi giảm là: \", len(list_image_test_dogs))"
   ]
  },
  {
   "cell_type": "code",
   "execution_count": 17,
   "metadata": {},
   "outputs": [],
   "source": [
    "# Đọc ảnh từ danh sách đường dẫn cho trước và gán vào một danh sách mới.\n",
    "list_image_train_cats = [load_img(image_path, target_size=(224, 224)) for image_path in list_image_train_cats]"
   ]
  },
  {
   "cell_type": "code",
   "execution_count": 18,
   "metadata": {},
   "outputs": [],
   "source": [
    "list_image_train_dogs = [load_img(image_path, target_size=(224, 224))  for image_path in list_image_train_dogs]"
   ]
  },
  {
   "cell_type": "code",
   "execution_count": 19,
   "metadata": {},
   "outputs": [],
   "source": [
    "list_image_test_cats = [load_img(image_path, target_size=(224, 224))  for image_path in list_image_test_cats]"
   ]
  },
  {
   "cell_type": "code",
   "execution_count": 20,
   "metadata": {},
   "outputs": [],
   "source": [
    "list_image_test_dogs = [load_img(image_path, target_size=(224, 224))  for image_path in list_image_test_dogs]\n",
    "# Lúc này chúng ta có 4 danh sách với mỗi phần tử đại diện cho 1 ma trận ảnh"
   ]
  },
  {
   "cell_type": "code",
   "execution_count": 21,
   "metadata": {},
   "outputs": [],
   "source": [
    "# chuyển đổi ảnh thành mảng\n",
    "list_image_train_cats = [img_to_array(image) for image in list_image_train_cats]"
   ]
  },
  {
   "cell_type": "code",
   "execution_count": 22,
   "metadata": {},
   "outputs": [],
   "source": [
    "list_image_train_dogs = [img_to_array(image)  for image in list_image_train_dogs]"
   ]
  },
  {
   "cell_type": "code",
   "execution_count": 23,
   "metadata": {},
   "outputs": [],
   "source": [
    "list_image_test_cats = [img_to_array(image) for image in list_image_test_cats]"
   ]
  },
  {
   "cell_type": "code",
   "execution_count": 24,
   "metadata": {},
   "outputs": [],
   "source": [
    "list_image_test_dogs = [img_to_array(image)  for image in list_image_test_dogs]"
   ]
  },
  {
   "cell_type": "code",
   "execution_count": 25,
   "metadata": {},
   "outputs": [],
   "source": [
    "# Mở rộng số chiều của ma trận \n",
    "list_image_train_cats = [np.expand_dims(image, axis=0) for image in list_image_train_cats]"
   ]
  },
  {
   "cell_type": "code",
   "execution_count": 26,
   "metadata": {},
   "outputs": [],
   "source": [
    "list_image_train_dogs = [np.expand_dims(image, axis=0)  for image in list_image_train_dogs]"
   ]
  },
  {
   "cell_type": "code",
   "execution_count": 27,
   "metadata": {},
   "outputs": [],
   "source": [
    "list_image_test_cats = [np.expand_dims(image, axis=0) for image in list_image_test_cats]"
   ]
  },
  {
   "cell_type": "code",
   "execution_count": 28,
   "metadata": {},
   "outputs": [],
   "source": [
    "list_image_test_dogs = [np.expand_dims(image, axis=0)  for image in list_image_test_dogs]"
   ]
  },
  {
   "cell_type": "code",
   "execution_count": 29,
   "metadata": {},
   "outputs": [],
   "source": [
    "# Tiền xử lý ảnh đầu vào \n",
    "list_image_train_cats = [preprocess_input(image) for image in list_image_train_cats]"
   ]
  },
  {
   "cell_type": "code",
   "execution_count": 30,
   "metadata": {},
   "outputs": [],
   "source": [
    "list_image_train_dogs = [preprocess_input(image)  for image in list_image_train_dogs]"
   ]
  },
  {
   "cell_type": "code",
   "execution_count": 31,
   "metadata": {},
   "outputs": [],
   "source": [
    "list_image_test_cats = [preprocess_input(image) for image in list_image_test_cats]"
   ]
  },
  {
   "cell_type": "code",
   "execution_count": 32,
   "metadata": {},
   "outputs": [],
   "source": [
    "list_image_test_dogs = [preprocess_input(image)  for image in list_image_test_dogs]"
   ]
  },
  {
   "cell_type": "code",
   "execution_count": 33,
   "metadata": {},
   "outputs": [
    {
     "name": "stdout",
     "output_type": "stream",
     "text": [
      "Downloading data from https://storage.googleapis.com/tensorflow/keras-applications/resnet/resnet50_weights_tf_dim_ordering_tf_kernels_notop.h5\n",
      "94773248/94765736 [==============================] - 11s 0us/step\n"
     ]
    }
   ],
   "source": [
    "model = ResNet50(weights=\"imagenet\", include_top=False)"
   ]
  },
  {
   "cell_type": "code",
   "execution_count": 34,
   "metadata": {},
   "outputs": [],
   "source": [
    "# Rút trích đặc trưng với mạng resnet \n",
    "list_image_train_cats = [model.predict(image) for image in list_image_train_cats]"
   ]
  },
  {
   "cell_type": "code",
   "execution_count": 35,
   "metadata": {},
   "outputs": [],
   "source": [
    "list_image_train_dogs = [model.predict(image)  for image in list_image_train_dogs]"
   ]
  },
  {
   "cell_type": "code",
   "execution_count": 36,
   "metadata": {},
   "outputs": [],
   "source": [
    "list_image_test_cats = [model.predict(image) for image in list_image_test_cats]"
   ]
  },
  {
   "cell_type": "code",
   "execution_count": 37,
   "metadata": {},
   "outputs": [],
   "source": [
    "list_image_test_dogs = [model.predict(image)  for image in list_image_test_dogs]"
   ]
  },
  {
   "cell_type": "code",
   "execution_count": 38,
   "metadata": {},
   "outputs": [],
   "source": [
    "list_feature_train_cats = [features.reshape((features.shape[0], 7 * 7 * 2048)) for features in list_image_train_cats]"
   ]
  },
  {
   "cell_type": "code",
   "execution_count": 39,
   "metadata": {},
   "outputs": [],
   "source": [
    "list_feature_train_dogs = [features.reshape((features.shape[0], 7 * 7 * 2048)) for features in list_image_train_dogs]"
   ]
  },
  {
   "cell_type": "code",
   "execution_count": 40,
   "metadata": {},
   "outputs": [],
   "source": [
    "list_feature_test_cats = [features.reshape((features.shape[0], 7 * 7 * 2048)) for features in list_image_test_cats]"
   ]
  },
  {
   "cell_type": "code",
   "execution_count": 41,
   "metadata": {},
   "outputs": [],
   "source": [
    "list_feature_test_dogs = [features.reshape((features.shape[0], 7 * 7 * 2048)) for features in list_image_test_dogs]"
   ]
  },
  {
   "cell_type": "code",
   "execution_count": 42,
   "metadata": {},
   "outputs": [],
   "source": [
    "# Giảm chiều ma trận \n",
    "list_feature_train_cats = [np.squeeze(image, axis=0) for image in list_feature_train_cats]"
   ]
  },
  {
   "cell_type": "code",
   "execution_count": 43,
   "metadata": {},
   "outputs": [],
   "source": [
    "list_feature_train_dogs = [np.squeeze(image, axis=0)  for image in list_feature_train_dogs]"
   ]
  },
  {
   "cell_type": "code",
   "execution_count": 44,
   "metadata": {},
   "outputs": [],
   "source": [
    "list_feature_test_cats = [np.squeeze(image, axis=0) for image in list_feature_test_cats]"
   ]
  },
  {
   "cell_type": "code",
   "execution_count": 45,
   "metadata": {},
   "outputs": [],
   "source": [
    "list_feature_test_dogs = [np.squeeze(image, axis=0)  for image in list_feature_test_dogs]"
   ]
  },
  {
   "cell_type": "code",
   "execution_count": 46,
   "metadata": {},
   "outputs": [],
   "source": [
    "# Chuyển đổi về dạng numpy array \n",
    "nparray_image_train_cats = np.array(list_feature_train_cats)"
   ]
  },
  {
   "cell_type": "code",
   "execution_count": 47,
   "metadata": {},
   "outputs": [],
   "source": [
    "nparray_image_train_dogs = np.array(list_feature_train_dogs)"
   ]
  },
  {
   "cell_type": "code",
   "execution_count": 48,
   "metadata": {},
   "outputs": [],
   "source": [
    "nparray_image_test_cats = np.array(list_feature_test_cats)"
   ]
  },
  {
   "cell_type": "code",
   "execution_count": 49,
   "metadata": {},
   "outputs": [],
   "source": [
    "nparray_image_test_dogs = np.array(list_feature_test_dogs)"
   ]
  },
  {
   "cell_type": "code",
   "execution_count": 50,
   "metadata": {},
   "outputs": [],
   "source": [
    "# Tạo nhãn cho tập train vì hiện tại ảnh nằm trong 1 folder nên ta chỉ cần tạo số nhãn tương ứng với kích thước mảng\n",
    "# 0: cat, 1: dog\n",
    "nparray_labels_train_cats = np.zeros(len(list_image_train_cats), dtype=int)"
   ]
  },
  {
   "cell_type": "code",
   "execution_count": 51,
   "metadata": {},
   "outputs": [],
   "source": [
    "nparray_labels_train_dogs = np.ones(len(list_image_train_dogs), dtype=int)"
   ]
  },
  {
   "cell_type": "code",
   "execution_count": 52,
   "metadata": {},
   "outputs": [],
   "source": [
    "nparray_labels_test_cats = np.zeros(len(list_image_test_cats), dtype=int)"
   ]
  },
  {
   "cell_type": "code",
   "execution_count": 53,
   "metadata": {},
   "outputs": [],
   "source": [
    "nparray_labels_test_dogs = np.ones(len(list_image_test_dogs), dtype=int)"
   ]
  },
  {
   "cell_type": "code",
   "execution_count": 54,
   "metadata": {},
   "outputs": [],
   "source": [
    "# Gộp mảng train trong đó \n",
    "# X là ma trận ảnh đặc trưng và y là ma trận nhãn tương ứng \n",
    "X_train = np.concatenate((nparray_image_train_cats, nparray_image_train_dogs), axis=0)"
   ]
  },
  {
   "cell_type": "code",
   "execution_count": 83,
   "metadata": {},
   "outputs": [
    {
     "name": "stdout",
     "output_type": "stream",
     "text": [
      "[[3.561665   0.         0.         ... 0.         0.         0.        ]\n",
      " [0.         0.         0.         ... 0.5439354  4.558005   0.        ]\n",
      " [0.50676703 0.         0.         ... 2.8292077  0.         0.        ]\n",
      " ...\n",
      " [0.         0.         0.         ... 0.         0.         0.        ]\n",
      " [0.         0.         0.         ... 0.         0.         0.        ]\n",
      " [0.         0.         0.         ... 0.         7.7184463  0.        ]]\n",
      "[0 0 0 0 0 0 0 0 0 0 0 0 0 0 0 0 0 0 0 0 0 0 0 0 0 0 0 0 0 0 0 0 0 0 0 0 0\n",
      " 0 0 0 0 0 0 0 0 0 0 0 0 0 0 0 0 0 0 0 0 0 0 0 0 0 0 0 0 0 0 0 0 0 0 0 0 0\n",
      " 0 0 0 0 0 0 0 0 0 0 0 0 0 0 0 0 0 0 0 0 0 0 0 0 0 0 0 0 0 0 0 0 0 0 0 0 0\n",
      " 0 0 0 0 0 0 0 0 0 0 0 0 0 0 0 0 0 0 0 0 0 0 0 0 0 0 0 0 0 0 0 0 0 0 0 0 0\n",
      " 0 0 0 0 0 0 0 0 0 0 0 0 0 0 0 0 0 0 0 0 0 0 0 0 0 0 0 0 0 0 0 0 0 0 0 0 0\n",
      " 0 0 0 0 0 0 0 0 0 0 0 0 0 0 0 0 0 0 0 0 0 0 0 0 0 0 0 0 0 0 0 0 0 0 0 0 0\n",
      " 0 0 0 0 0 0 0 0 0 0 0 0 0 0 0 0 0 0 0 0 0 0 0 0 0 0 0 0 0 0 0 0 0 0 0 0 0\n",
      " 0 0 0 0 0 0 0 0 0 0 0 0 0 0 0 0 0 0 0 0 0 0 0 0 0 0 0 0 0 0 0 0 0 0 0 0 0\n",
      " 0 0 0 0 0 0 0 0 0 0 0 0 0 0 0 0 0 0 0 0 0 0 0 0 0 0 0 0 0 0 0 0 0 0 0 0 0\n",
      " 0 0 0 0 0 0 0 0 0 0 0 0 0 0 0 0 0 0 0 0 0 0 0 0 0 0 0 0 0 0 0 0 0 0 0 0 0\n",
      " 0 0 0 0 0 0 0 0 0 0 0 0 0 0 0 0 0 0 0 0 0 0 0 0 0 0 0 0 0 0 0 0 0 0 0 0 0\n",
      " 0 0 0 0 0 0 0 0 0 0 0 0 0 0 0 0 0 0 0 0 0 0 0 0 0 0 0 0 0 0 0 0 0 0 0 0 0\n",
      " 0 0 0 0 0 0 0 0 0 0 0 0 0 0 0 0 0 0 0 0 0 0 0 0 0 0 0 0 0 0 0 0 0 0 0 0 0\n",
      " 0 0 0 0 0 0 0 0 0 0 0 0 0 0 0 0 0 0 0 1 1 1 1 1 1 1 1 1 1 1 1 1 1 1 1 1 1\n",
      " 1 1 1 1 1 1 1 1 1 1 1 1 1 1 1 1 1 1 1 1 1 1 1 1 1 1 1 1 1 1 1 1 1 1 1 1 1\n",
      " 1 1 1 1 1 1 1 1 1 1 1 1 1 1 1 1 1 1 1 1 1 1 1 1 1 1 1 1 1 1 1 1 1 1 1 1 1\n",
      " 1 1 1 1 1 1 1 1 1 1 1 1 1 1 1 1 1 1 1 1 1 1 1 1 1 1 1 1 1 1 1 1 1 1 1 1 1\n",
      " 1 1 1 1 1 1 1 1 1 1 1 1 1 1 1 1 1 1 1 1 1 1 1 1 1 1 1 1 1 1 1 1 1 1 1 1 1\n",
      " 1 1 1 1 1 1 1 1 1 1 1 1 1 1 1 1 1 1 1 1 1 1 1 1 1 1 1 1 1 1 1 1 1 1 1 1 1\n",
      " 1 1 1 1 1 1 1 1 1 1 1 1 1 1 1 1 1 1 1 1 1 1 1 1 1 1 1 1 1 1 1 1 1 1 1 1 1\n",
      " 1 1 1 1 1 1 1 1 1 1 1 1 1 1 1 1 1 1 1 1 1 1 1 1 1 1 1 1 1 1 1 1 1 1 1 1 1\n",
      " 1 1 1 1 1 1 1 1 1 1 1 1 1 1 1 1 1 1 1 1 1 1 1 1 1 1 1 1 1 1 1 1 1 1 1 1 1\n",
      " 1 1 1 1 1 1 1 1 1 1 1 1 1 1 1 1 1 1 1 1 1 1 1 1 1 1 1 1 1 1 1 1 1 1 1 1 1\n",
      " 1 1 1 1 1 1 1 1 1 1 1 1 1 1 1 1 1 1 1 1 1 1 1 1 1 1 1 1 1 1 1 1 1 1 1 1 1\n",
      " 1 1 1 1 1 1 1 1 1 1 1 1 1 1 1 1 1 1 1 1 1 1 1 1 1 1 1 1 1 1 1 1 1 1 1 1 1\n",
      " 1 1 1 1 1 1 1 1 1 1 1 1 1 1 1 1 1 1 1 1 1 1 1 1 1 1 1 1 1 1 1 1 1 1 1 1 1\n",
      " 1 1 1 1 1 1 1 1 1 1 1 1 1 1 1 1 1 1 1 1 1 1 1 1 1 1 1 1 1 1 1 1 1 1 1 1 1\n",
      " 1]\n"
     ]
    }
   ],
   "source": [
    "y_train = np.concatenate((nparray_labels_train_cats, nparray_labels_train_dogs), axis=0)\n",
    "print(X_train)\n",
    "print(y_train)"
   ]
  },
  {
   "cell_type": "code",
   "execution_count": 90,
   "metadata": {},
   "outputs": [
    {
     "name": "stdout",
     "output_type": "stream",
     "text": [
      "[[0.        0.        0.        ... 0.        0.        0.       ]\n",
      " [0.        0.        0.        ... 0.        0.        0.       ]\n",
      " [0.        0.        0.        ... 0.        0.        0.       ]\n",
      " ...\n",
      " [0.        0.        0.        ... 0.        0.1567297 0.       ]\n",
      " [0.6584561 0.        0.        ... 0.        0.        0.       ]\n",
      " [0.        0.        0.        ... 0.        0.        0.       ]]\n"
     ]
    }
   ],
   "source": [
    "# Gộp mảng test trong đó \n",
    "# X là ma trận ảnh và y là ma trận nhãn tương ứng \n",
    "X_test = np.concatenate((nparray_image_test_cats, nparray_image_test_dogs), axis=0)\n",
    "print(X_test)"
   ]
  },
  {
   "cell_type": "code",
   "execution_count": 57,
   "metadata": {},
   "outputs": [],
   "source": [
    "y_test = np.concatenate((nparray_labels_test_cats, nparray_labels_test_dogs), axis=0)\n",
    "#concatenate: gộp mảng"
   ]
  },
  {
   "cell_type": "code",
   "execution_count": 58,
   "metadata": {},
   "outputs": [],
   "source": [
    "from sklearn.linear_model import Perceptron"
   ]
  },
  {
   "cell_type": "code",
   "execution_count": 59,
   "metadata": {},
   "outputs": [],
   "source": [
    "clf = Perceptron(tol=1e-3) # tol là điều kiện dừng xét mức dừng là 0.0003\n",
    "PLA_model = clf.fit(X_train, y_train) # Huấn luyện mô hình"
   ]
  },
  {
   "cell_type": "code",
   "execution_count": 60,
   "metadata": {},
   "outputs": [],
   "source": [
    "# Dự đoán tập test\n",
    "y_predict = PLA_model.predict(X_test)"
   ]
  },
  {
   "cell_type": "code",
   "execution_count": 70,
   "metadata": {},
   "outputs": [
    {
     "name": "stdout",
     "output_type": "stream",
     "text": [
      "[0 0 0 0 0 0 0 0 0 0 0 0 0 0 0 0 0 0 0 0 0 0 0 0 0 0 0 0 0 0 0 0 0 0 0 0 0\n",
      " 0 0 0 0 0 1 0 1 0 0 0 0 0 0 0 0 0 0 0 0 0 0 0 0 0 0 0 0 0 0 0 0 0 0 0 0 0\n",
      " 0 0 0 0 0 0 0 0 0 0 0 0 0 0 0 0 0 0 0 0 0 0 0 0 0 0 0 0 0 0 0 0 0 0 0 0 0\n",
      " 0 0 0 0 0 0 0 0 0 0 0 0 0 0 0 0 0 0 0 0 0 0 0 0 0 1 0 0 0 0 0 0 0 0 0 0 0\n",
      " 0 0 1 1 1 1 1 1 1 1 1 1 1 1 1 1 1 1 1 1 1 1 1 1 1 1 1 1 1 1 1 1 1 1 1 1 1\n",
      " 1 1 1 1 1 1 1 1 1 1 1 1 1 1 1 1 1 1 1 1 1 1 1 1 1 1 1 1 1 1 1 1 1 1 1 1 1\n",
      " 1 1 1 1 1 1 1 1 1 1 1 1 1 1 1 1 1 1 1 1 1 1 1 1 1 1 1 1 1 1 1 1 1 1 1 1 1\n",
      " 1 1 1 1 1 0 1 1 1 1 1 1 1 1 1 1 1 1 1 1 1 1 1 1 1 1 1 1 1 1 1 1 0 1 1 1 1\n",
      " 1 1 1 1]\n",
      "[0 0 0 0 0 0 0 0 0 0 0 0 0 0 0 0 0 0 0 0 0 0 0 0 0 0 0 0 0 0 0 0 0 0 0 0 0\n",
      " 0 0 0 0 0 0 0 0 0 0 0 0 0 0 0 0 0 0 0 0 0 0 0 0 0 0 0 0 0 0 0 0 0 0 0 0 0\n",
      " 0 0 0 0 0 0 0 0 0 0 0 0 0 0 0 0 0 0 0 0 0 0 0 0 0 0 0 0 0 0 0 0 0 0 0 0 0\n",
      " 0 0 0 0 0 0 0 0 0 0 0 0 0 0 0 0 0 0 0 0 0 0 0 0 0 0 0 0 0 0 0 0 0 0 0 0 0\n",
      " 0 0 1 1 1 1 1 1 1 1 1 1 1 1 1 1 1 1 1 1 1 1 1 1 1 1 1 1 1 1 1 1 1 1 1 1 1\n",
      " 1 1 1 1 1 1 1 1 1 1 1 1 1 1 1 1 1 1 1 1 1 1 1 1 1 1 1 1 1 1 1 1 1 1 1 1 1\n",
      " 1 1 1 1 1 1 1 1 1 1 1 1 1 1 1 1 1 1 1 1 1 1 1 1 1 1 1 1 1 1 1 1 1 1 1 1 1\n",
      " 1 1 1 1 1 1 1 1 1 1 1 1 1 1 1 1 1 1 1 1 1 1 1 1 1 1 1 1 1 1 1 1 1 1 1 1 1\n",
      " 1 1 1 1]\n",
      "Độ chính xác của thuật toán Perceptron Learning Algorithm là:  0.9833333333333333\n"
     ]
    }
   ],
   "source": [
    "# Kiểm tra độ chính xác dự đoán\n",
    "accuracy = accuracy_score(y_predict, y_test)\n",
    "print(y_predict)\n",
    "print(y_test)\n",
    "print(\"Độ chính xác của thuật toán Perceptron Learning Algorithm là: \", accuracy)"
   ]
  },
  {
   "cell_type": "code",
   "execution_count": 86,
   "metadata": {},
   "outputs": [
    {
     "name": "stdout",
     "output_type": "stream",
     "text": [
      "Đây là mèo\n"
     ]
    }
   ],
   "source": []
  },
  {
   "cell_type": "code",
   "execution_count": 72,
   "metadata": {},
   "outputs": [
    {
     "data": {
      "text/plain": [
       "1.0"
      ]
     },
     "execution_count": 72,
     "metadata": {},
     "output_type": "execute_result"
    }
   ],
   "source": [
    "PLA_model.score(X_train, y_train)"
   ]
  },
  {
   "cell_type": "code",
   "execution_count": 73,
   "metadata": {},
   "outputs": [],
   "source": [
    "from sklearn.neighbors import KNeighborsClassifier"
   ]
  },
  {
   "cell_type": "code",
   "execution_count": 74,
   "metadata": {},
   "outputs": [
    {
     "data": {
      "text/plain": [
       "KNeighborsClassifier()"
      ]
     },
     "execution_count": 74,
     "metadata": {},
     "output_type": "execute_result"
    }
   ],
   "source": [
    "KNN_model = KNeighborsClassifier(n_neighbors=5) # n_eighbors là số điểm láng giềng gần điểm đang xét\n",
    "KNN_model.fit(X_train, y_train) # Huấn luyện mô hình"
   ]
  },
  {
   "cell_type": "code",
   "execution_count": 75,
   "metadata": {},
   "outputs": [],
   "source": [
    "y_predict = KNN_model.predict(X_test)"
   ]
  },
  {
   "cell_type": "code",
   "execution_count": 76,
   "metadata": {},
   "outputs": [
    {
     "name": "stdout",
     "output_type": "stream",
     "text": [
      "Độ chính xác của thuật toán KNN là:  0.97\n"
     ]
    }
   ],
   "source": [
    "accuracy = accuracy_score(y_predict, y_test)\n",
    "print(\"Độ chính xác của thuật toán KNN là: \", accuracy)"
   ]
  },
  {
   "cell_type": "code",
   "execution_count": 77,
   "metadata": {},
   "outputs": [],
   "source": [
    "from sklearn.linear_model import LogisticRegression"
   ]
  },
  {
   "cell_type": "code",
   "execution_count": 78,
   "metadata": {},
   "outputs": [
    {
     "name": "stderr",
     "output_type": "stream",
     "text": [
      "D:\\anaconda\\lib\\site-packages\\sklearn\\linear_model\\_logistic.py:762: ConvergenceWarning: lbfgs failed to converge (status=1):\n",
      "STOP: TOTAL NO. of ITERATIONS REACHED LIMIT.\n",
      "\n",
      "Increase the number of iterations (max_iter) or scale the data as shown in:\n",
      "    https://scikit-learn.org/stable/modules/preprocessing.html\n",
      "Please also refer to the documentation for alternative solver options:\n",
      "    https://scikit-learn.org/stable/modules/linear_model.html#logistic-regression\n",
      "  n_iter_i = _check_optimize_result(\n"
     ]
    },
    {
     "data": {
      "text/plain": [
       "LogisticRegression()"
      ]
     },
     "execution_count": 78,
     "metadata": {},
     "output_type": "execute_result"
    }
   ],
   "source": [
    "LR_model = LogisticRegression() # Sử dụng mô hình logistic regression\n",
    "LR_model.fit(X_train, y_train) # Huấn luyện mô hình"
   ]
  },
  {
   "cell_type": "code",
   "execution_count": 79,
   "metadata": {},
   "outputs": [],
   "source": [
    "y_predict = LR_model.predict(X_test)"
   ]
  },
  {
   "cell_type": "code",
   "execution_count": 80,
   "metadata": {},
   "outputs": [
    {
     "name": "stdout",
     "output_type": "stream",
     "text": [
      "Độ chính xác của thuật toán KNN là:  0.9966666666666667\n"
     ]
    }
   ],
   "source": [
    "accuracy = accuracy_score(y_predict, y_test)\n",
    "print(\"Độ chính xác của thuật toán KNN là: \", accuracy)"
   ]
  },
  {
   "cell_type": "code",
   "execution_count": null,
   "metadata": {},
   "outputs": [],
   "source": []
  },
  {
   "cell_type": "code",
   "execution_count": 92,
   "metadata": {},
   "outputs": [
    {
     "data": {
      "text/plain": [
       "KNeighborsClassifier()"
      ]
     },
     "execution_count": 92,
     "metadata": {},
     "output_type": "execute_result"
    }
   ],
   "source": [
    "# KNN\n",
    "from sklearn.neighbors import KNeighborsClassifier\n",
    "\n",
    "KNN_model = KNeighborsClassifier(n_neighbors=5) # n_eighbors là số điểm láng giềng gần điểm đang xét\n",
    "KNN_model.fit(X_train, y_train) # Huấn luyện mô hình"
   ]
  },
  {
   "cell_type": "code",
   "execution_count": 93,
   "metadata": {},
   "outputs": [],
   "source": [
    "y_predict = KNN_model.predict(X_test)"
   ]
  },
  {
   "cell_type": "code",
   "execution_count": 94,
   "metadata": {},
   "outputs": [
    {
     "name": "stdout",
     "output_type": "stream",
     "text": [
      "Độ chính xác của thuật toán KNN là:  0.97\n"
     ]
    }
   ],
   "source": [
    "accuracy = accuracy_score(y_predict, y_test)\n",
    "print(\"Độ chính xác của thuật toán KNN là: \", accuracy)"
   ]
  },
  {
   "cell_type": "code",
   "execution_count": 95,
   "metadata": {},
   "outputs": [
    {
     "name": "stderr",
     "output_type": "stream",
     "text": [
      "D:\\anaconda\\lib\\site-packages\\sklearn\\linear_model\\_logistic.py:762: ConvergenceWarning: lbfgs failed to converge (status=1):\n",
      "STOP: TOTAL NO. of ITERATIONS REACHED LIMIT.\n",
      "\n",
      "Increase the number of iterations (max_iter) or scale the data as shown in:\n",
      "    https://scikit-learn.org/stable/modules/preprocessing.html\n",
      "Please also refer to the documentation for alternative solver options:\n",
      "    https://scikit-learn.org/stable/modules/linear_model.html#logistic-regression\n",
      "  n_iter_i = _check_optimize_result(\n"
     ]
    },
    {
     "data": {
      "text/plain": [
       "LogisticRegression()"
      ]
     },
     "execution_count": 95,
     "metadata": {},
     "output_type": "execute_result"
    }
   ],
   "source": [
    "from sklearn.linear_model import LogisticRegression\n",
    "\n",
    "LR_model = LogisticRegression() # Sử dụng mô hình logistic regression\n",
    "LR_model.fit(X_train, y_train) # Huấn luyện mô hình"
   ]
  },
  {
   "cell_type": "code",
   "execution_count": 96,
   "metadata": {},
   "outputs": [],
   "source": [
    "y_predict = LR_model.predict(X_test)"
   ]
  },
  {
   "cell_type": "code",
   "execution_count": 97,
   "metadata": {},
   "outputs": [
    {
     "name": "stdout",
     "output_type": "stream",
     "text": [
      "Độ chính xác của thuật toán KNN là:  0.9966666666666667\n"
     ]
    }
   ],
   "source": [
    "accuracy = accuracy_score(y_predict, y_test)\n",
    "print(\"Độ chính xác của thuật toán KNN là: \", accuracy)"
   ]
  },
  {
   "cell_type": "code",
   "execution_count": 98,
   "metadata": {},
   "outputs": [
    {
     "name": "stdout",
     "output_type": "stream",
     "text": [
      "Đây là mèo\n"
     ]
    }
   ],
   "source": [
    "image_path = \"D:/meochemat.png\" # truyền đường dẫn của ảnh \n",
    "image = load_img(image_path, target_size=(224, 224)) # load ảnh từ đường dẫn và resize ảnh về kích thước 224x224\n",
    "image = img_to_array(image) # chuyển đổi ảnh về \n",
    "image = np.expand_dims(image, axis=0) # mở rộng chiều\n",
    "image = preprocess_input(image) # xử lý dữ liệu\n",
    "feature = model.predict(image) # rút đặc trưng\n",
    "feature = feature.reshape((feature.shape[0], 7 * 7 * 2048)) # reshape đặc trưng\n",
    "feature = np.squeeze(feature, axis=0) # giảm chiều đặc trưng\n",
    "feature = feature.reshape(1, -1) # reshape anh\n",
    "\n",
    "predict = PLA_model.predict(feature) # dự đoán ảnh\n",
    "if predict[0] == 0:\n",
    "  print(\"Đây là mèo\")\n",
    "else:\n",
    "  print(\"Đây là chó\")"
   ]
  },
  {
   "cell_type": "code",
   "execution_count": 100,
   "metadata": {},
   "outputs": [
    {
     "name": "stdout",
     "output_type": "stream",
     "text": [
      "Input array :  [[2 2 2]\n",
      " [2 2 2]]\n",
      "Shape of input array :  (2, 3)\n",
      "output squeezed array :  [[2 2 2]\n",
      " [2 2 2]]\n",
      "Shape of output array :  (2, 3)\n"
     ]
    }
   ],
   "source": [
    "import numpy as geek\n",
    "  \n",
    "in_arr = geek.array([[[2, 2, 2], [2, 2, 2]]])\n",
    "   \n",
    "print (\"Input array : \", in_arr) \n",
    "print(\"Shape of input array : \", in_arr.shape)  \n",
    "  \n",
    "out_arr = geek.squeeze(in_arr) \n",
    "  \n",
    "print (\"output squeezed array : \", out_arr)\n",
    "print(\"Shape of output array : \", out_arr.shape) "
   ]
  },
  {
   "cell_type": "code",
   "execution_count": null,
   "metadata": {},
   "outputs": [],
   "source": []
  }
 ],
 "metadata": {
  "kernelspec": {
   "display_name": "Python 3",
   "language": "python",
   "name": "python3"
  },
  "language_info": {
   "codemirror_mode": {
    "name": "ipython",
    "version": 3
   },
   "file_extension": ".py",
   "mimetype": "text/x-python",
   "name": "python",
   "nbconvert_exporter": "python",
   "pygments_lexer": "ipython3",
   "version": "3.8.5"
  }
 },
 "nbformat": 4,
 "nbformat_minor": 4
}
